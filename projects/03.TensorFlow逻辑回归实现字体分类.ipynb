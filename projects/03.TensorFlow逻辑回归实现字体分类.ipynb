{
 "cells": [
  {
   "cell_type": "code",
   "execution_count": 1,
   "metadata": {},
   "outputs": [
    {
     "name": "stderr",
     "output_type": "stream",
     "text": [
      "D:\\AI\\Anaconda3\\lib\\site-packages\\h5py\\__init__.py:36: FutureWarning: Conversion of the second argument of issubdtype from `float` to `np.floating` is deprecated. In future, it will be treated as `np.float64 == np.dtype(float).type`.\n",
      "  from ._conv import register_converters as _register_converters\n"
     ]
    }
   ],
   "source": [
    "import numpy as np\n",
    "import matplotlib.pyplot as plt\n",
    "from sklearn.model_selection import train_test_split\n",
    "from sklearn.preprocessing import OneHotEncoder\n",
    "import tensorflow as tf"
   ]
  },
  {
   "cell_type": "markdown",
   "metadata": {},
   "source": [
    "### 加载数据"
   ]
  },
  {
   "cell_type": "code",
   "execution_count": 2,
   "metadata": {},
   "outputs": [
    {
     "data": {
      "text/plain": [
       "['arr_0', 'arr_1']"
      ]
     },
     "execution_count": 2,
     "metadata": {},
     "output_type": "execute_result"
    }
   ],
   "source": [
    "data = np.load('../data/data_with_labels.npz')\n",
    "data.keys()"
   ]
  },
  {
   "cell_type": "code",
   "execution_count": 3,
   "metadata": {},
   "outputs": [
    {
     "data": {
      "text/plain": [
       "(2790, 36, 36)"
      ]
     },
     "execution_count": 3,
     "metadata": {},
     "output_type": "execute_result"
    }
   ],
   "source": [
    "data['arr_0'].shape"
   ]
  },
  {
   "cell_type": "code",
   "execution_count": 4,
   "metadata": {},
   "outputs": [
    {
     "data": {
      "text/plain": [
       "(2790,)"
      ]
     },
     "execution_count": 4,
     "metadata": {},
     "output_type": "execute_result"
    }
   ],
   "source": [
    "data['arr_1'].shape"
   ]
  },
  {
   "cell_type": "code",
   "execution_count": 5,
   "metadata": {},
   "outputs": [],
   "source": [
    "train = data['arr_0'] / 255.\n",
    "labels = data['arr_1']"
   ]
  },
  {
   "cell_type": "code",
   "execution_count": 6,
   "metadata": {},
   "outputs": [
    {
     "data": {
      "image/png": "[encoded data removed]",
      "text/plain": [
       "<Figure size 432x288 with 5 Axes>"
      ]
     },
     "metadata": {},
     "output_type": "display_data"
    }
   ],
   "source": [
    "f, plts = plt.subplots(5, sharex=True)\n",
    "c = 91\n",
    "for i in range(5):\n",
    "    plts[i].pcolor(train[c + i * 558],cmap=plt.cm.gray_r)\n",
    "    plts[i].axis('off')\n",
    "plt.show()"
   ]
  },
  {
   "cell_type": "markdown",
   "metadata": {},
   "source": [
    "### 处理数据"
   ]
  },
  {
   "cell_type": "markdown",
   "metadata": {},
   "source": [
    "- 独热编码"
   ]
  },
  {
   "cell_type": "code",
   "execution_count": 7,
   "metadata": {},
   "outputs": [
    {
     "data": {
      "text/plain": [
       "array([0., 0., 0., 0., 1.])"
      ]
     },
     "execution_count": 7,
     "metadata": {},
     "output_type": "execute_result"
    }
   ],
   "source": [
    "oh = OneHotEncoder(sparse=False)\n",
    "labels = oh.fit_transform(labels.reshape(-1, 1))\n",
    "labels[-1]"
   ]
  },
  {
   "cell_type": "markdown",
   "metadata": {},
   "source": [
    "- 分割数据,10%作为测试数据,其余做训练数据"
   ]
  },
  {
   "cell_type": "code",
   "execution_count": 8,
   "metadata": {},
   "outputs": [],
   "source": [
    "X_train, X_test, y_train, y_test = train_test_split(train, labels, test_size=0.1, random_state=666)"
   ]
  },
  {
   "cell_type": "markdown",
   "metadata": {},
   "source": [
    "### 搭建模型"
   ]
  },
  {
   "cell_type": "markdown",
   "metadata": {},
   "source": [
    "- 一层神经网络"
   ]
  },
  {
   "cell_type": "code",
   "execution_count": 9,
   "metadata": {},
   "outputs": [],
   "source": [
    "SHAPE = 36*36\n",
    "CLASSES = 5\n",
    "x = tf.placeholder(\"float\", [None, SHAPE]) #图像是36*36像素\n",
    "y_ = tf.placeholder(\"float\", [None, CLASSES]) #分为5个类别\n",
    "\n",
    "W = tf.Variable(tf.zeros([SHAPE, CLASSES])) #权重\n",
    "b = tf.Variable(tf.zeros([CLASSES])) #偏置"
   ]
  },
  {
   "cell_type": "code",
   "execution_count": 10,
   "metadata": {},
   "outputs": [],
   "source": [
    "y = tf.nn.softmax(tf.matmul(x, W) + b)\n",
    "#损失函数\n",
    "loss = tf.reduce_mean(tf.nn.softmax_cross_entropy_with_logits_v2(logits=y + 1e-50, labels=y_))\n",
    "#梯度下降优化\n",
    "train_step = tf.train.GradientDescentOptimizer(learning_rate=0.02).minimize(loss)\n",
    "\n",
    "#准确率\n",
    "correct_prediction = tf.equal(tf.argmax(y,1),tf.argmax(y_,1))\n",
    "accuracy = tf.reduce_mean(tf.cast(correct_prediction, \"float\"))"
   ]
  },
  {
   "cell_type": "markdown",
   "metadata": {},
   "source": [
    "### 训练模型"
   ]
  },
  {
   "cell_type": "code",
   "execution_count": 11,
   "metadata": {},
   "outputs": [
    {
     "name": "stdout",
     "output_type": "stream",
     "text": [
      "step:    0, train_acc 0.199522, test_acc 0.204301\n",
      "step:  100, train_acc 0.199522, test_acc 0.204301\n",
      "step:  200, train_acc 0.221426, test_acc 0.236559\n",
      "step:  300, train_acc 0.285942, test_acc 0.286738\n",
      "step:  400, train_acc 0.323775, test_acc 0.333333\n",
      "step:  500, train_acc 0.339307, test_acc 0.365591\n",
      "step:  600, train_acc 0.350856, test_acc 0.383513\n",
      "step:  700, train_acc 0.359618, test_acc 0.397849\n",
      "step:  800, train_acc 0.368777, test_acc 0.397849\n",
      "step:  900, train_acc 0.381920, test_acc 0.405018\n",
      "step: 1000, train_acc 0.398248, test_acc 0.426523\n",
      "step: 1100, train_acc 0.427320, test_acc 0.437276\n",
      "step: 1200, train_acc 0.456392, test_acc 0.462366\n",
      "step: 1300, train_acc 0.485464, test_acc 0.483871\n",
      "step: 1400, train_acc 0.511350, test_acc 0.501792\n",
      "step: 1500, train_acc 0.532059, test_acc 0.508961\n",
      "step: 1600, train_acc 0.556352, test_acc 0.505376\n",
      "step: 1700, train_acc 0.573477, test_acc 0.523297\n",
      "step: 1800, train_acc 0.590203, test_acc 0.544803\n",
      "step: 1900, train_acc 0.602549, test_acc 0.548387\n",
      "step: 2000, train_acc 0.609319, test_acc 0.555556\n",
      "step: 2100, train_acc 0.616886, test_acc 0.562724\n",
      "step: 2200, train_acc 0.622461, test_acc 0.562724\n",
      "step: 2300, train_acc 0.628435, test_acc 0.566308\n",
      "step: 2400, train_acc 0.633214, test_acc 0.562724\n",
      "step: 2500, train_acc 0.637993, test_acc 0.591398\n",
      "step: 2600, train_acc 0.640382, test_acc 0.591398\n",
      "step: 2700, train_acc 0.644365, test_acc 0.594982\n",
      "step: 2800, train_acc 0.651135, test_acc 0.594982\n",
      "step: 2900, train_acc 0.654719, test_acc 0.605735\n",
      "step: 3000, train_acc 0.658702, test_acc 0.605735\n",
      "step: 3100, train_acc 0.660693, test_acc 0.609319\n",
      "step: 3200, train_acc 0.664675, test_acc 0.616487\n",
      "step: 3300, train_acc 0.667861, test_acc 0.612903\n",
      "step: 3400, train_acc 0.672640, test_acc 0.616487\n",
      "step: 3500, train_acc 0.673835, test_acc 0.616487\n",
      "step: 3600, train_acc 0.675826, test_acc 0.612903\n",
      "step: 3700, train_acc 0.677818, test_acc 0.609319\n",
      "step: 3800, train_acc 0.680207, test_acc 0.609319\n",
      "step: 3900, train_acc 0.681800, test_acc 0.612903\n",
      "step: 4000, train_acc 0.682198, test_acc 0.609319\n",
      "step: 4100, train_acc 0.686579, test_acc 0.609319\n",
      "step: 4200, train_acc 0.688570, test_acc 0.609319\n",
      "step: 4300, train_acc 0.688969, test_acc 0.605735\n",
      "step: 4400, train_acc 0.692553, test_acc 0.605735\n",
      "step: 4500, train_acc 0.694146, test_acc 0.609319\n",
      "step: 4600, train_acc 0.695739, test_acc 0.609319\n",
      "step: 4700, train_acc 0.698925, test_acc 0.609319\n",
      "step: 4800, train_acc 0.701712, test_acc 0.609319\n",
      "step: 4900, train_acc 0.702509, test_acc 0.612903\n",
      "step: 5000, train_acc 0.705695, test_acc 0.612903\n",
      "step: 5100, train_acc 0.706890, test_acc 0.612903\n",
      "step: 5200, train_acc 0.708881, test_acc 0.616487\n",
      "step: 5300, train_acc 0.709677, test_acc 0.616487\n",
      "step: 5400, train_acc 0.713262, test_acc 0.620072\n",
      "step: 5500, train_acc 0.716846, test_acc 0.627240\n",
      "step: 5600, train_acc 0.717642, test_acc 0.627240\n",
      "step: 5700, train_acc 0.718439, test_acc 0.627240\n",
      "step: 5800, train_acc 0.719235, test_acc 0.630824\n",
      "step: 5900, train_acc 0.720828, test_acc 0.630824\n",
      "step: 6000, train_acc 0.723616, test_acc 0.634409\n",
      "step: 6100, train_acc 0.726006, test_acc 0.637993\n",
      "step: 6200, train_acc 0.728395, test_acc 0.641577\n",
      "step: 6300, train_acc 0.729988, test_acc 0.645161\n",
      "step: 6400, train_acc 0.732378, test_acc 0.645161\n",
      "step: 6500, train_acc 0.732776, test_acc 0.652330\n",
      "step: 6600, train_acc 0.732776, test_acc 0.655914\n",
      "step: 6700, train_acc 0.737953, test_acc 0.655914\n",
      "step: 6800, train_acc 0.737555, test_acc 0.655914\n",
      "step: 6900, train_acc 0.739148, test_acc 0.663082\n",
      "step: 7000, train_acc 0.741935, test_acc 0.663082\n",
      "step: 7100, train_acc 0.741935, test_acc 0.663082\n",
      "step: 7200, train_acc 0.742334, test_acc 0.666667\n",
      "step: 7300, train_acc 0.744325, test_acc 0.670251\n",
      "step: 7400, train_acc 0.744325, test_acc 0.673835\n",
      "step: 7500, train_acc 0.746316, test_acc 0.677419\n",
      "step: 7600, train_acc 0.747113, test_acc 0.677419\n",
      "step: 7700, train_acc 0.748706, test_acc 0.677419\n",
      "step: 7800, train_acc 0.750299, test_acc 0.681004\n",
      "step: 7900, train_acc 0.750697, test_acc 0.681004\n",
      "step: 8000, train_acc 0.751493, test_acc 0.684588\n",
      "step: 8100, train_acc 0.753485, test_acc 0.684588\n",
      "step: 8200, train_acc 0.753086, test_acc 0.684588\n",
      "step: 8300, train_acc 0.753086, test_acc 0.684588\n",
      "step: 8400, train_acc 0.753485, test_acc 0.684588\n",
      "step: 8500, train_acc 0.754281, test_acc 0.688172\n",
      "step: 8600, train_acc 0.754679, test_acc 0.688172\n",
      "step: 8700, train_acc 0.754281, test_acc 0.688172\n",
      "step: 8800, train_acc 0.754679, test_acc 0.695341\n",
      "step: 8900, train_acc 0.755476, test_acc 0.695341\n",
      "step: 9000, train_acc 0.755078, test_acc 0.695341\n",
      "step: 9100, train_acc 0.755476, test_acc 0.698925\n",
      "step: 9200, train_acc 0.756272, test_acc 0.698925\n",
      "step: 9300, train_acc 0.756272, test_acc 0.698925\n",
      "step: 9400, train_acc 0.756671, test_acc 0.698925\n",
      "step: 9500, train_acc 0.757467, test_acc 0.698925\n",
      "step: 9600, train_acc 0.757467, test_acc 0.702509\n",
      "step: 9700, train_acc 0.757865, test_acc 0.702509\n",
      "step: 9800, train_acc 0.758264, test_acc 0.702509\n",
      "step: 9900, train_acc 0.759458, test_acc 0.702509\n",
      "step: 10000, train_acc 0.759458, test_acc 0.702509\n",
      "step: 10100, train_acc 0.759857, test_acc 0.702509\n",
      "step: 10200, train_acc 0.760255, test_acc 0.698925\n",
      "step: 10300, train_acc 0.761051, test_acc 0.698925\n",
      "step: 10400, train_acc 0.761051, test_acc 0.698925\n",
      "step: 10500, train_acc 0.761450, test_acc 0.698925\n",
      "step: 10600, train_acc 0.761450, test_acc 0.698925\n",
      "step: 10700, train_acc 0.763043, test_acc 0.698925\n",
      "step: 10800, train_acc 0.763043, test_acc 0.698925\n",
      "step: 10900, train_acc 0.763839, test_acc 0.698925\n",
      "step: 11000, train_acc 0.763839, test_acc 0.698925\n",
      "step: 11100, train_acc 0.763839, test_acc 0.698925\n",
      "step: 11200, train_acc 0.763839, test_acc 0.698925\n",
      "step: 11300, train_acc 0.764636, test_acc 0.695341\n",
      "step: 11400, train_acc 0.765830, test_acc 0.695341\n",
      "step: 11500, train_acc 0.765830, test_acc 0.698925\n",
      "step: 11600, train_acc 0.766229, test_acc 0.698925\n",
      "step: 11700, train_acc 0.766229, test_acc 0.698925\n",
      "step: 11800, train_acc 0.767822, test_acc 0.698925\n",
      "step: 11900, train_acc 0.768220, test_acc 0.698925\n",
      "step: 12000, train_acc 0.768618, test_acc 0.698925\n",
      "step: 12100, train_acc 0.770211, test_acc 0.698925\n",
      "step: 12200, train_acc 0.770211, test_acc 0.698925\n",
      "step: 12300, train_acc 0.770609, test_acc 0.702509\n",
      "step: 12400, train_acc 0.771406, test_acc 0.702509\n",
      "step: 12500, train_acc 0.771804, test_acc 0.702509\n",
      "step: 12600, train_acc 0.771804, test_acc 0.702509\n",
      "step: 12700, train_acc 0.772601, test_acc 0.702509\n",
      "step: 12800, train_acc 0.772999, test_acc 0.702509\n",
      "step: 12900, train_acc 0.773397, test_acc 0.698925\n",
      "step: 13000, train_acc 0.773795, test_acc 0.702509\n",
      "step: 13100, train_acc 0.773795, test_acc 0.702509\n",
      "step: 13200, train_acc 0.773795, test_acc 0.698925\n",
      "step: 13300, train_acc 0.774194, test_acc 0.698925\n",
      "step: 13400, train_acc 0.773795, test_acc 0.698925\n",
      "step: 13500, train_acc 0.774194, test_acc 0.698925\n",
      "step: 13600, train_acc 0.774592, test_acc 0.698925\n",
      "step: 13700, train_acc 0.774592, test_acc 0.698925\n",
      "step: 13800, train_acc 0.774194, test_acc 0.698925\n",
      "step: 13900, train_acc 0.774990, test_acc 0.698925\n",
      "step: 14000, train_acc 0.775787, test_acc 0.698925\n",
      "step: 14100, train_acc 0.775787, test_acc 0.698925\n",
      "step: 14200, train_acc 0.776185, test_acc 0.698925\n",
      "step: 14300, train_acc 0.776185, test_acc 0.702509\n",
      "step: 14400, train_acc 0.776185, test_acc 0.702509\n",
      "step: 14500, train_acc 0.776185, test_acc 0.702509\n",
      "step: 14600, train_acc 0.776185, test_acc 0.702509\n",
      "step: 14700, train_acc 0.776583, test_acc 0.702509\n",
      "step: 14800, train_acc 0.776583, test_acc 0.702509\n",
      "step: 14900, train_acc 0.776583, test_acc 0.702509\n",
      "step: 15000, train_acc 0.776981, test_acc 0.702509\n",
      "step: 15100, train_acc 0.777778, test_acc 0.702509\n",
      "step: 15200, train_acc 0.777778, test_acc 0.702509\n",
      "step: 15300, train_acc 0.778574, test_acc 0.702509\n",
      "step: 15400, train_acc 0.778973, test_acc 0.702509\n",
      "step: 15500, train_acc 0.779371, test_acc 0.702509\n",
      "step: 15600, train_acc 0.780167, test_acc 0.702509\n",
      "step: 15700, train_acc 0.780167, test_acc 0.702509\n",
      "step: 15800, train_acc 0.780964, test_acc 0.702509\n",
      "step: 15900, train_acc 0.780964, test_acc 0.702509\n",
      "step: 16000, train_acc 0.780964, test_acc 0.702509\n",
      "step: 16100, train_acc 0.780964, test_acc 0.698925\n",
      "step: 16200, train_acc 0.780566, test_acc 0.698925\n"
     ]
    },
    {
     "name": "stdout",
     "output_type": "stream",
     "text": [
      "step: 16300, train_acc 0.780566, test_acc 0.698925\n",
      "step: 16400, train_acc 0.781362, test_acc 0.698925\n",
      "step: 16500, train_acc 0.781760, test_acc 0.698925\n",
      "step: 16600, train_acc 0.781760, test_acc 0.698925\n",
      "step: 16700, train_acc 0.781760, test_acc 0.698925\n",
      "step: 16800, train_acc 0.781760, test_acc 0.698925\n",
      "step: 16900, train_acc 0.781760, test_acc 0.698925\n",
      "step: 17000, train_acc 0.782557, test_acc 0.698925\n",
      "step: 17100, train_acc 0.782557, test_acc 0.698925\n",
      "step: 17200, train_acc 0.782955, test_acc 0.698925\n",
      "step: 17300, train_acc 0.782955, test_acc 0.698925\n",
      "step: 17400, train_acc 0.783751, test_acc 0.698925\n",
      "step: 17500, train_acc 0.784150, test_acc 0.698925\n",
      "step: 17600, train_acc 0.784150, test_acc 0.698925\n",
      "step: 17700, train_acc 0.784150, test_acc 0.698925\n",
      "step: 17800, train_acc 0.784548, test_acc 0.698925\n",
      "step: 17900, train_acc 0.785344, test_acc 0.698925\n",
      "step: 18000, train_acc 0.785743, test_acc 0.698925\n",
      "step: 18100, train_acc 0.786539, test_acc 0.706093\n",
      "step: 18200, train_acc 0.787734, test_acc 0.709677\n",
      "step: 18300, train_acc 0.787734, test_acc 0.709677\n",
      "step: 18400, train_acc 0.788530, test_acc 0.709677\n",
      "step: 18500, train_acc 0.788929, test_acc 0.713262\n",
      "step: 18600, train_acc 0.789327, test_acc 0.713262\n",
      "step: 18700, train_acc 0.789725, test_acc 0.713262\n",
      "step: 18800, train_acc 0.790123, test_acc 0.713262\n",
      "step: 18900, train_acc 0.790522, test_acc 0.713262\n",
      "step: 19000, train_acc 0.791716, test_acc 0.713262\n",
      "step: 19100, train_acc 0.792513, test_acc 0.713262\n",
      "step: 19200, train_acc 0.792911, test_acc 0.713262\n",
      "step: 19300, train_acc 0.793309, test_acc 0.713262\n",
      "step: 19400, train_acc 0.794106, test_acc 0.716846\n",
      "step: 19500, train_acc 0.794504, test_acc 0.716846\n",
      "step: 19600, train_acc 0.794504, test_acc 0.720430\n",
      "step: 19700, train_acc 0.794902, test_acc 0.720430\n",
      "step: 19800, train_acc 0.795301, test_acc 0.720430\n",
      "step: 19900, train_acc 0.795301, test_acc 0.720430\n"
     ]
    }
   ],
   "source": [
    "init = tf.global_variables_initializer()\n",
    "epochs = 20000\n",
    "train_acc = []\n",
    "test_acc = []\n",
    "\n",
    "with tf.Session() as sess:\n",
    "    sess.run(init)\n",
    "    \n",
    "    for i in range(epochs):\n",
    "        sess.run(train_step, feed_dict={x : X_train.reshape(-1, 36 * 36), y_ : y_train})\n",
    "        if i % 100 == 0:\n",
    "            trainacc = sess.run(accuracy, feed_dict={x : X_train.reshape(-1, 36 * 36), y_ : y_train})\n",
    "            train_acc.append(trainacc)\n",
    "            testacc = sess.run(accuracy, feed_dict={x : X_test.reshape(-1, 36 * 36), y_ : y_test})\n",
    "            test_acc.append(testacc)\n",
    "            print(\"step: %4d, train_acc %.6f, test_acc %.6f\" % (i, trainacc, testacc))"
   ]
  },
  {
   "cell_type": "markdown",
   "metadata": {},
   "source": [
    "- 查看Accuracy"
   ]
  },
  {
   "cell_type": "code",
   "execution_count": 12,
   "metadata": {},
   "outputs": [
    {
     "data": {
      "image/png": "[encoded data removed]",
      "text/plain": [
       "<Figure size 432x432 with 1 Axes>"
      ]
     },
     "metadata": {},
     "output_type": "display_data"
    }
   ],
   "source": [
    "plt.figure(figsize=(6,6))\n",
    "plt.plot(train_acc,'bo')\n",
    "plt.plot(test_acc,'r*')\n",
    "plt.show()"
   ]
  },
  {
   "cell_type": "code",
   "execution_count": null,
   "metadata": {},
   "outputs": [],
   "source": []
  }
 ],
 "metadata": {
  "kernelspec": {
   "display_name": "Python 3",
   "language": "python",
   "name": "python3"
  },
  "language_info": {
   "codemirror_mode": {
    "name": "ipython",
    "version": 3
   },
   "file_extension": ".py",
   "mimetype": "text/x-python",
   "name": "python",
   "nbconvert_exporter": "python",
   "pygments_lexer": "ipython3",
   "version": "3.6.5"
  }
 },
 "nbformat": 4,
 "nbformat_minor": 2
}
