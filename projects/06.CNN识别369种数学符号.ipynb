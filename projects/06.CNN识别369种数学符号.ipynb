{
 "cells": [
  {
   "cell_type": "markdown",
   "metadata": {},
   "source": [
    "### 数据集：\n",
    "- [HASYv2](https://zenodo.org/record/259444#.XADL6rEzaHs)数据集包含__168233__张数学符号图像，分__369__种\n",
    "- $32 * 32$像素大小\n",
    "- 类似下图：\n",
    "![](HASYv2.png)"
   ]
  },
  {
   "cell_type": "code",
   "execution_count": 1,
   "metadata": {},
   "outputs": [
    {
     "name": "stderr",
     "output_type": "stream",
     "text": [
      "D:\\AI\\Anaconda3\\lib\\site-packages\\h5py\\__init__.py:36: FutureWarning: Conversion of the second argument of issubdtype from `float` to `np.floating` is deprecated. In future, it will be treated as `np.float64 == np.dtype(float).type`.\n",
      "  from ._conv import register_converters as _register_converters\n",
      "Using TensorFlow backend.\n"
     ]
    }
   ],
   "source": [
    "import numpy as np\n",
    "import pandas as pd\n",
    "import matplotlib.pyplot as plt\n",
    "from PIL import Image as pil_image\n",
    "from keras.preprocessing.image import img_to_array\n",
    "from IPython.display import Image\n",
    "import keras\n",
    "from sklearn.preprocessing import LabelEncoder\n",
    "from sklearn.preprocessing import OneHotEncoder\n",
    "from sklearn.model_selection import train_test_split\n",
    "from keras.models import Sequential\n",
    "from keras.layers import Dense, Dropout, Flatten,Conv2D, MaxPooling2D"
   ]
  },
  {
   "cell_type": "markdown",
   "metadata": {},
   "source": [
    "- 字母$A$"
   ]
  },
  {
   "cell_type": "code",
   "execution_count": 2,
   "metadata": {},
   "outputs": [
    {
     "data": {
      "image/png": "[encoded data removed]",
      "text/plain": [
       "<IPython.core.display.Image object>"
      ]
     },
     "execution_count": 2,
     "metadata": {},
     "output_type": "execute_result"
    }
   ],
   "source": [
    "Image(\"HASYv2/hasy-data/v2-00000.png\")"
   ]
  },
  {
   "cell_type": "markdown",
   "metadata": {},
   "source": [
    "- 字母$\\pi$"
   ]
  },
  {
   "cell_type": "code",
   "execution_count": 3,
   "metadata": {
    "scrolled": true
   },
   "outputs": [
    {
     "data": {
      "image/png": "[encoded data removed]",
      "text/plain": [
       "<IPython.core.display.Image object>"
      ]
     },
     "execution_count": 3,
     "metadata": {},
     "output_type": "execute_result"
    }
   ],
   "source": [
    "Image(\"HASYv2/hasy-data/v2-00568.png\")"
   ]
  },
  {
   "cell_type": "markdown",
   "metadata": {},
   "source": [
    "- 字母$\\Omega$"
   ]
  },
  {
   "cell_type": "code",
   "execution_count": 4,
   "metadata": {},
   "outputs": [
    {
     "data": {
      "image/png": "[encoded data removed]",
      "text/plain": [
       "<IPython.core.display.Image object>"
      ]
     },
     "execution_count": 4,
     "metadata": {},
     "output_type": "execute_result"
    }
   ],
   "source": [
    "Image(\"HASYv2/hasy-data/v2-163686.png\")"
   ]
  },
  {
   "cell_type": "markdown",
   "metadata": {},
   "source": [
    "### 加载数据\n",
    "- 数据已经加上lable并且保存在csv文件中，所以从csv读取文件"
   ]
  },
  {
   "cell_type": "code",
   "execution_count": 5,
   "metadata": {},
   "outputs": [
    {
     "data": {
      "text/html": [
       "<div>\n",
       "<style scoped>\n",
       "    .dataframe tbody tr th:only-of-type {\n",
       "        vertical-align: middle;\n",
       "    }\n",
       "\n",
       "    .dataframe tbody tr th {\n",
       "        vertical-align: top;\n",
       "    }\n",
       "\n",
       "    .dataframe thead th {\n",
       "        text-align: right;\n",
       "    }\n",
       "</style>\n",
       "<table border=\"1\" class=\"dataframe\">\n",
       "  <thead>\n",
       "    <tr style=\"text-align: right;\">\n",
       "      <th></th>\n",
       "      <th>path</th>\n",
       "      <th>symbol_id</th>\n",
       "      <th>latex</th>\n",
       "      <th>user_id</th>\n",
       "    </tr>\n",
       "  </thead>\n",
       "  <tbody>\n",
       "    <tr>\n",
       "      <th>0</th>\n",
       "      <td>hasy-data/v2-00000.png</td>\n",
       "      <td>31</td>\n",
       "      <td>A</td>\n",
       "      <td>50</td>\n",
       "    </tr>\n",
       "    <tr>\n",
       "      <th>1</th>\n",
       "      <td>hasy-data/v2-00001.png</td>\n",
       "      <td>31</td>\n",
       "      <td>A</td>\n",
       "      <td>10</td>\n",
       "    </tr>\n",
       "    <tr>\n",
       "      <th>2</th>\n",
       "      <td>hasy-data/v2-00002.png</td>\n",
       "      <td>31</td>\n",
       "      <td>A</td>\n",
       "      <td>43</td>\n",
       "    </tr>\n",
       "    <tr>\n",
       "      <th>3</th>\n",
       "      <td>hasy-data/v2-00003.png</td>\n",
       "      <td>31</td>\n",
       "      <td>A</td>\n",
       "      <td>43</td>\n",
       "    </tr>\n",
       "    <tr>\n",
       "      <th>4</th>\n",
       "      <td>hasy-data/v2-00004.png</td>\n",
       "      <td>31</td>\n",
       "      <td>A</td>\n",
       "      <td>4435</td>\n",
       "    </tr>\n",
       "  </tbody>\n",
       "</table>\n",
       "</div>"
      ],
      "text/plain": [
       "                     path  symbol_id latex  user_id\n",
       "0  hasy-data/v2-00000.png         31     A       50\n",
       "1  hasy-data/v2-00001.png         31     A       10\n",
       "2  hasy-data/v2-00002.png         31     A       43\n",
       "3  hasy-data/v2-00003.png         31     A       43\n",
       "4  hasy-data/v2-00004.png         31     A     4435"
      ]
     },
     "execution_count": 5,
     "metadata": {},
     "output_type": "execute_result"
    }
   ],
   "source": [
    "hasy = pd.read_csv(\"HASYv2/hasy-data-labels.csv\")\n",
    "hasy.head()"
   ]
  },
  {
   "cell_type": "code",
   "execution_count": 6,
   "metadata": {},
   "outputs": [],
   "source": [
    "images = []\n",
    "classes = []\n",
    "for path, latex in zip(hasy['path'], hasy['latex']):\n",
    "    img = img_to_array(pil_image.open(\"HASYv2/\" + path))\n",
    "    img /= 255.0\n",
    "    images.append(img)\n",
    "    classes.append(latex)"
   ]
  },
  {
   "cell_type": "code",
   "execution_count": 7,
   "metadata": {},
   "outputs": [
    {
     "data": {
      "text/plain": [
       "168233"
      ]
     },
     "execution_count": 7,
     "metadata": {},
     "output_type": "execute_result"
    }
   ],
   "source": [
    "len(images)"
   ]
  },
  {
   "cell_type": "code",
   "execution_count": 8,
   "metadata": {},
   "outputs": [],
   "source": [
    "X = np.array(images)\n",
    "y = np.array(classes)"
   ]
  },
  {
   "cell_type": "markdown",
   "metadata": {},
   "source": [
    "### One-Hot编码"
   ]
  },
  {
   "cell_type": "code",
   "execution_count": 9,
   "metadata": {},
   "outputs": [],
   "source": [
    "label_encoder = LabelEncoder()\n",
    "label_encoder_y = label_encoder.fit_transform(y)\n",
    "\n",
    "onehot_encoder = OneHotEncoder(sparse=False)\n",
    "label_encoder_y = label_encoder_y.reshape(-1, 1)\n",
    "y = onehot_encoder.fit_transform(label_encoder_y)"
   ]
  },
  {
   "cell_type": "code",
   "execution_count": 10,
   "metadata": {},
   "outputs": [
    {
     "data": {
      "text/plain": [
       "369"
      ]
     },
     "execution_count": 10,
     "metadata": {},
     "output_type": "execute_result"
    }
   ],
   "source": [
    "num_classes = len(label_encoder.classes_)\n",
    "num_classes"
   ]
  },
  {
   "cell_type": "markdown",
   "metadata": {},
   "source": [
    "### 分割数据"
   ]
  },
  {
   "cell_type": "code",
   "execution_count": 11,
   "metadata": {},
   "outputs": [],
   "source": [
    "X_train, X_test, y_train, y_test = train_test_split(X, y, test_size=0.2, random_state=666)"
   ]
  },
  {
   "cell_type": "markdown",
   "metadata": {},
   "source": [
    "### 创建模型"
   ]
  },
  {
   "cell_type": "code",
   "execution_count": 12,
   "metadata": {},
   "outputs": [
    {
     "name": "stdout",
     "output_type": "stream",
     "text": [
      "_________________________________________________________________\n",
      "Layer (type)                 Output Shape              Param #   \n",
      "=================================================================\n",
      "conv2d_1 (Conv2D)            (None, 30, 30, 32)        896       \n",
      "_________________________________________________________________\n",
      "max_pooling2d_1 (MaxPooling2 (None, 15, 15, 32)        0         \n",
      "_________________________________________________________________\n",
      "conv2d_2 (Conv2D)            (None, 13, 13, 32)        9248      \n",
      "_________________________________________________________________\n",
      "max_pooling2d_2 (MaxPooling2 (None, 6, 6, 32)          0         \n",
      "_________________________________________________________________\n",
      "flatten_1 (Flatten)          (None, 1152)              0         \n",
      "_________________________________________________________________\n",
      "dense_1 (Dense)              (None, 128)               147584    \n",
      "_________________________________________________________________\n",
      "dropout_1 (Dropout)          (None, 128)               0         \n",
      "_________________________________________________________________\n",
      "dense_2 (Dense)              (None, 369)               47601     \n",
      "=================================================================\n",
      "Total params: 205,329\n",
      "Trainable params: 205,329\n",
      "Non-trainable params: 0\n",
      "_________________________________________________________________\n"
     ]
    }
   ],
   "source": [
    "model = Sequential()\n",
    "model.add(Conv2D(filters=32, kernel_size=(3, 3), activation='relu', input_shape=np.shape(X_train[0])))\n",
    "model.add(MaxPooling2D(pool_size=(2, 2)))\n",
    "model.add(Conv2D(filters=32, kernel_size=(3, 3), activation='relu'))\n",
    "model.add(MaxPooling2D(pool_size=(2, 2)))\n",
    "model.add(Flatten())\n",
    "model.add(Dense(units=128, activation='tanh'))\n",
    "model.add(Dropout(0.5))\n",
    "model.add(Dense(units=num_classes, activation='softmax'))\n",
    "\n",
    "model.summary()"
   ]
  },
  {
   "cell_type": "markdown",
   "metadata": {},
   "source": [
    "### 编译模型"
   ]
  },
  {
   "cell_type": "code",
   "execution_count": 13,
   "metadata": {},
   "outputs": [],
   "source": [
    "model.compile(loss='categorical_crossentropy', optimizer='adam', metrics=['accuracy'])"
   ]
  },
  {
   "cell_type": "markdown",
   "metadata": {},
   "source": [
    "### 训练模型"
   ]
  },
  {
   "cell_type": "code",
   "execution_count": 14,
   "metadata": {},
   "outputs": [
    {
     "name": "stdout",
     "output_type": "stream",
     "text": [
      "Train on 107668 samples, validate on 26918 samples\n",
      "Epoch 1/100\n",
      " - 37s - loss: 2.0905 - acc: 0.5360 - val_loss: 1.0979 - val_acc: 0.7087\n",
      "Epoch 2/100\n",
      " - 37s - loss: 1.2001 - acc: 0.6830 - val_loss: 0.9015 - val_acc: 0.7495\n",
      "Epoch 3/100\n",
      " - 35s - loss: 1.0495 - acc: 0.7102 - val_loss: 0.8461 - val_acc: 0.7583\n",
      "Epoch 4/100\n",
      " - 35s - loss: 0.9725 - acc: 0.7276 - val_loss: 0.7968 - val_acc: 0.7728\n",
      "Epoch 5/100\n",
      " - 35s - loss: 0.9192 - acc: 0.7384 - val_loss: 0.7796 - val_acc: 0.7739\n",
      "Epoch 6/100\n",
      " - 36s - loss: 0.8879 - acc: 0.7453 - val_loss: 0.7539 - val_acc: 0.7798\n",
      "Epoch 7/100\n",
      " - 35s - loss: 0.8544 - acc: 0.7520 - val_loss: 0.7513 - val_acc: 0.7806\n",
      "Epoch 8/100\n",
      " - 36s - loss: 0.8273 - acc: 0.7587 - val_loss: 0.7451 - val_acc: 0.7818\n",
      "Epoch 9/100\n",
      " - 35s - loss: 0.8073 - acc: 0.7622 - val_loss: 0.7407 - val_acc: 0.7796\n",
      "Epoch 10/100\n",
      " - 369s - loss: 0.7882 - acc: 0.7665 - val_loss: 0.7365 - val_acc: 0.7852\n",
      "Epoch 11/100\n",
      " - 16s - loss: 0.7744 - acc: 0.7680 - val_loss: 0.7396 - val_acc: 0.7828\n",
      "Epoch 12/100\n",
      " - 15s - loss: 0.7639 - acc: 0.7713 - val_loss: 0.7309 - val_acc: 0.7861\n",
      "Epoch 13/100\n",
      " - 15s - loss: 0.7481 - acc: 0.7739 - val_loss: 0.7313 - val_acc: 0.7823\n",
      "Epoch 14/100\n",
      " - 15s - loss: 0.7395 - acc: 0.7755 - val_loss: 0.7335 - val_acc: 0.7865\n",
      "Epoch 15/100\n",
      " - 15s - loss: 0.7265 - acc: 0.7782 - val_loss: 0.7324 - val_acc: 0.7856\n",
      "Epoch 16/100\n",
      " - 15s - loss: 0.7203 - acc: 0.7799 - val_loss: 0.7247 - val_acc: 0.7857\n",
      "Epoch 17/100\n",
      " - 15s - loss: 0.7100 - acc: 0.7829 - val_loss: 0.7222 - val_acc: 0.7895\n",
      "Epoch 18/100\n",
      " - 15s - loss: 0.7008 - acc: 0.7842 - val_loss: 0.7339 - val_acc: 0.7850\n",
      "Epoch 19/100\n",
      " - 15s - loss: 0.6967 - acc: 0.7844 - val_loss: 0.7253 - val_acc: 0.7884\n",
      "Epoch 20/100\n",
      " - 15s - loss: 0.6929 - acc: 0.7860 - val_loss: 0.7363 - val_acc: 0.7814\n",
      "Epoch 21/100\n",
      " - 15s - loss: 0.6833 - acc: 0.7870 - val_loss: 0.7310 - val_acc: 0.7886\n",
      "Epoch 22/100\n",
      " - 15s - loss: 0.6798 - acc: 0.7875 - val_loss: 0.7310 - val_acc: 0.7883\n",
      "Epoch 23/100\n",
      " - 16s - loss: 0.6788 - acc: 0.7890 - val_loss: 0.7325 - val_acc: 0.7890\n",
      "Epoch 24/100\n",
      " - 16s - loss: 0.6700 - acc: 0.7921 - val_loss: 0.7274 - val_acc: 0.7879\n",
      "Epoch 25/100\n",
      " - 16s - loss: 0.6658 - acc: 0.7923 - val_loss: 0.7370 - val_acc: 0.7894\n",
      "Epoch 26/100\n",
      " - 16s - loss: 0.6602 - acc: 0.7933 - val_loss: 0.7427 - val_acc: 0.7886\n",
      "Epoch 27/100\n",
      " - 16s - loss: 0.6565 - acc: 0.7937 - val_loss: 0.7348 - val_acc: 0.7885\n",
      "Epoch 28/100\n",
      " - 16s - loss: 0.6513 - acc: 0.7949 - val_loss: 0.7498 - val_acc: 0.7852\n",
      "Epoch 29/100\n",
      " - 16s - loss: 0.6473 - acc: 0.7952 - val_loss: 0.7445 - val_acc: 0.7877\n",
      "Epoch 30/100\n",
      " - 15s - loss: 0.6428 - acc: 0.7972 - val_loss: 0.7468 - val_acc: 0.7877\n",
      "Epoch 31/100\n",
      " - 15s - loss: 0.6404 - acc: 0.7960 - val_loss: 0.7468 - val_acc: 0.7897\n",
      "Epoch 32/100\n",
      " - 15s - loss: 0.6422 - acc: 0.7958 - val_loss: 0.7433 - val_acc: 0.7881\n",
      "Epoch 33/100\n",
      " - 15s - loss: 0.6363 - acc: 0.7984 - val_loss: 0.7499 - val_acc: 0.7861\n",
      "Epoch 34/100\n",
      " - 15s - loss: 0.6347 - acc: 0.7982 - val_loss: 0.7514 - val_acc: 0.7853\n",
      "Epoch 35/100\n",
      " - 15s - loss: 0.6280 - acc: 0.8005 - val_loss: 0.7518 - val_acc: 0.7892\n",
      "Epoch 36/100\n",
      " - 15s - loss: 0.6262 - acc: 0.8002 - val_loss: 0.7563 - val_acc: 0.7865\n",
      "Epoch 37/100\n",
      " - 15s - loss: 0.6215 - acc: 0.8016 - val_loss: 0.7612 - val_acc: 0.7864\n",
      "Epoch 38/100\n",
      " - 15s - loss: 0.6214 - acc: 0.8001 - val_loss: 0.7539 - val_acc: 0.7890\n",
      "Epoch 39/100\n",
      " - 15s - loss: 0.6190 - acc: 0.8024 - val_loss: 0.7580 - val_acc: 0.7820\n",
      "Epoch 40/100\n",
      " - 15s - loss: 0.6158 - acc: 0.8024 - val_loss: 0.7605 - val_acc: 0.7888\n",
      "Epoch 41/100\n",
      " - 15s - loss: 0.6123 - acc: 0.8035 - val_loss: 0.7606 - val_acc: 0.7878\n",
      "Epoch 42/100\n",
      " - 15s - loss: 0.6090 - acc: 0.8042 - val_loss: 0.7598 - val_acc: 0.7842\n",
      "Epoch 43/100\n",
      " - 15s - loss: 0.6083 - acc: 0.8043 - val_loss: 0.7644 - val_acc: 0.7850\n",
      "Epoch 44/100\n",
      " - 15s - loss: 0.6052 - acc: 0.8059 - val_loss: 0.7702 - val_acc: 0.7846\n",
      "Epoch 45/100\n",
      " - 16s - loss: 0.6030 - acc: 0.8047 - val_loss: 0.7639 - val_acc: 0.7875\n",
      "Epoch 46/100\n",
      " - 15s - loss: 0.6007 - acc: 0.8059 - val_loss: 0.7595 - val_acc: 0.7862\n",
      "Epoch 47/100\n",
      " - 15s - loss: 0.5975 - acc: 0.8055 - val_loss: 0.7774 - val_acc: 0.7854\n",
      "Epoch 48/100\n",
      " - 15s - loss: 0.5986 - acc: 0.8062 - val_loss: 0.7740 - val_acc: 0.7820\n",
      "Epoch 49/100\n",
      " - 15s - loss: 0.5954 - acc: 0.8079 - val_loss: 0.7712 - val_acc: 0.7838\n",
      "Epoch 50/100\n",
      " - 15s - loss: 0.5949 - acc: 0.8080 - val_loss: 0.7783 - val_acc: 0.7801\n",
      "Epoch 51/100\n",
      " - 15s - loss: 0.5924 - acc: 0.8067 - val_loss: 0.7715 - val_acc: 0.7849\n",
      "Epoch 52/100\n",
      " - 15s - loss: 0.5902 - acc: 0.8085 - val_loss: 0.7824 - val_acc: 0.7839\n",
      "Epoch 53/100\n",
      " - 15s - loss: 0.5889 - acc: 0.8089 - val_loss: 0.7817 - val_acc: 0.7827\n",
      "Epoch 54/100\n",
      " - 15s - loss: 0.5879 - acc: 0.8095 - val_loss: 0.7742 - val_acc: 0.7858\n",
      "Epoch 55/100\n",
      " - 15s - loss: 0.5862 - acc: 0.8102 - val_loss: 0.7794 - val_acc: 0.7868\n",
      "Epoch 56/100\n",
      " - 15s - loss: 0.5858 - acc: 0.8099 - val_loss: 0.7743 - val_acc: 0.7854\n",
      "Epoch 57/100\n",
      " - 15s - loss: 0.5831 - acc: 0.8098 - val_loss: 0.7846 - val_acc: 0.7827\n",
      "Epoch 58/100\n",
      " - 15s - loss: 0.5845 - acc: 0.8099 - val_loss: 0.7833 - val_acc: 0.7837\n",
      "Epoch 59/100\n",
      " - 15s - loss: 0.5814 - acc: 0.8119 - val_loss: 0.7864 - val_acc: 0.7845\n",
      "Epoch 60/100\n",
      " - 15s - loss: 0.5780 - acc: 0.8129 - val_loss: 0.7932 - val_acc: 0.7842\n",
      "Epoch 61/100\n",
      " - 15s - loss: 0.5759 - acc: 0.8130 - val_loss: 0.7901 - val_acc: 0.7839\n",
      "Epoch 62/100\n",
      " - 15s - loss: 0.5787 - acc: 0.8109 - val_loss: 0.7916 - val_acc: 0.7814\n",
      "Epoch 63/100\n",
      " - 15s - loss: 0.5760 - acc: 0.8113 - val_loss: 0.7944 - val_acc: 0.7837\n",
      "Epoch 64/100\n",
      " - 15s - loss: 0.5725 - acc: 0.8125 - val_loss: 0.7919 - val_acc: 0.7845\n",
      "Epoch 65/100\n",
      " - 15s - loss: 0.5737 - acc: 0.8118 - val_loss: 0.7972 - val_acc: 0.7841\n",
      "Epoch 66/100\n",
      " - 15s - loss: 0.5744 - acc: 0.8134 - val_loss: 0.7968 - val_acc: 0.7822\n",
      "Epoch 67/100\n",
      " - 15s - loss: 0.5721 - acc: 0.8138 - val_loss: 0.7929 - val_acc: 0.7816\n",
      "Epoch 68/100\n",
      " - 15s - loss: 0.5669 - acc: 0.8153 - val_loss: 0.7955 - val_acc: 0.7832\n",
      "Epoch 69/100\n",
      " - 15s - loss: 0.5669 - acc: 0.8143 - val_loss: 0.7997 - val_acc: 0.7849\n",
      "Epoch 70/100\n",
      " - 15s - loss: 0.5694 - acc: 0.8135 - val_loss: 0.8025 - val_acc: 0.7796\n",
      "Epoch 71/100\n",
      " - 15s - loss: 0.5683 - acc: 0.8146 - val_loss: 0.7999 - val_acc: 0.7820\n",
      "Epoch 72/100\n",
      " - 15s - loss: 0.5701 - acc: 0.8150 - val_loss: 0.7954 - val_acc: 0.7850\n",
      "Epoch 73/100\n",
      " - 15s - loss: 0.5648 - acc: 0.8155 - val_loss: 0.8005 - val_acc: 0.7845\n",
      "Epoch 74/100\n",
      " - 15s - loss: 0.5650 - acc: 0.8160 - val_loss: 0.8027 - val_acc: 0.7836\n",
      "Epoch 75/100\n",
      " - 15s - loss: 0.5620 - acc: 0.8154 - val_loss: 0.7990 - val_acc: 0.7809\n",
      "Epoch 76/100\n",
      " - 15s - loss: 0.5629 - acc: 0.8165 - val_loss: 0.7972 - val_acc: 0.7833\n",
      "Epoch 77/100\n",
      " - 15s - loss: 0.5587 - acc: 0.8163 - val_loss: 0.8037 - val_acc: 0.7836\n",
      "Epoch 78/100\n",
      " - 15s - loss: 0.5603 - acc: 0.8178 - val_loss: 0.8028 - val_acc: 0.7821\n",
      "Epoch 79/100\n",
      " - 15s - loss: 0.5610 - acc: 0.8165 - val_loss: 0.8028 - val_acc: 0.7798\n",
      "Epoch 80/100\n",
      " - 15s - loss: 0.5601 - acc: 0.8164 - val_loss: 0.8032 - val_acc: 0.7823\n",
      "Epoch 81/100\n",
      " - 15s - loss: 0.5573 - acc: 0.8170 - val_loss: 0.8006 - val_acc: 0.7836\n",
      "Epoch 82/100\n",
      " - 15s - loss: 0.5579 - acc: 0.8169 - val_loss: 0.8014 - val_acc: 0.7833\n",
      "Epoch 83/100\n",
      " - 15s - loss: 0.5557 - acc: 0.8176 - val_loss: 0.8060 - val_acc: 0.7819\n",
      "Epoch 84/100\n",
      " - 15s - loss: 0.5555 - acc: 0.8184 - val_loss: 0.8107 - val_acc: 0.7837\n",
      "Epoch 85/100\n",
      " - 15s - loss: 0.5577 - acc: 0.8181 - val_loss: 0.8142 - val_acc: 0.7811\n",
      "Epoch 86/100\n",
      " - 15s - loss: 0.5559 - acc: 0.8175 - val_loss: 0.8134 - val_acc: 0.7830\n",
      "Epoch 87/100\n",
      " - 15s - loss: 0.5568 - acc: 0.8160 - val_loss: 0.8160 - val_acc: 0.7814\n",
      "Epoch 88/100\n",
      " - 15s - loss: 0.5571 - acc: 0.8176 - val_loss: 0.8068 - val_acc: 0.7834\n",
      "Epoch 89/100\n",
      " - 15s - loss: 0.5538 - acc: 0.8189 - val_loss: 0.8118 - val_acc: 0.7807\n",
      "Epoch 90/100\n",
      " - 15s - loss: 0.5507 - acc: 0.8193 - val_loss: 0.8136 - val_acc: 0.7834\n",
      "Epoch 91/100\n",
      " - 15s - loss: 0.5567 - acc: 0.8182 - val_loss: 0.8142 - val_acc: 0.7816\n",
      "Epoch 92/100\n",
      " - 15s - loss: 0.5531 - acc: 0.8189 - val_loss: 0.8126 - val_acc: 0.7784\n",
      "Epoch 93/100\n",
      " - 15s - loss: 0.5546 - acc: 0.8188 - val_loss: 0.8143 - val_acc: 0.7793\n",
      "Epoch 94/100\n",
      " - 15s - loss: 0.5494 - acc: 0.8196 - val_loss: 0.8139 - val_acc: 0.7835\n",
      "Epoch 95/100\n",
      " - 15s - loss: 0.5480 - acc: 0.8202 - val_loss: 0.8110 - val_acc: 0.7803\n"
     ]
    },
    {
     "name": "stdout",
     "output_type": "stream",
     "text": [
      "Epoch 96/100\n",
      " - 15s - loss: 0.5474 - acc: 0.8190 - val_loss: 0.8126 - val_acc: 0.7826\n",
      "Epoch 97/100\n",
      " - 15s - loss: 0.5470 - acc: 0.8204 - val_loss: 0.8121 - val_acc: 0.7810\n",
      "Epoch 98/100\n",
      " - 15s - loss: 0.5506 - acc: 0.8193 - val_loss: 0.8185 - val_acc: 0.7823\n",
      "Epoch 99/100\n",
      " - 15s - loss: 0.5472 - acc: 0.8199 - val_loss: 0.8191 - val_acc: 0.7785\n",
      "Epoch 100/100\n",
      " - 15s - loss: 0.5501 - acc: 0.8193 - val_loss: 0.8223 - val_acc: 0.7816\n"
     ]
    },
    {
     "data": {
      "text/plain": [
       "<keras.callbacks.History at 0x2276ec5cba8>"
      ]
     },
     "execution_count": 14,
     "metadata": {},
     "output_type": "execute_result"
    }
   ],
   "source": [
    "callback = keras.callbacks.TensorBoard(log_dir='logs/mnist-style')\n",
    "model.fit(X_train, y_train, batch_size=32, epochs=100, verbose=2, validation_split=0.2, callbacks=[callback])"
   ]
  },
  {
   "cell_type": "markdown",
   "metadata": {},
   "source": [
    "### 评估模型"
   ]
  },
  {
   "cell_type": "code",
   "execution_count": 15,
   "metadata": {},
   "outputs": [
    {
     "name": "stdout",
     "output_type": "stream",
     "text": [
      "33647/33647 [==============================] - 2s 67us/step\n",
      "Test loss: 0.8125586455639331\n",
      "Test accuracy: 0.7828335364311239\n"
     ]
    }
   ],
   "source": [
    "score = model.evaluate(X_test, y_test)\n",
    "print('Test loss:', score[0])\n",
    "print('Test accuracy:', score[1])"
   ]
  },
  {
   "cell_type": "markdown",
   "metadata": {},
   "source": [
    "### 保存模型"
   ]
  },
  {
   "cell_type": "code",
   "execution_count": 16,
   "metadata": {},
   "outputs": [],
   "source": [
    "model.save(\"mathsymbols.model\")"
   ]
  },
  {
   "cell_type": "markdown",
   "metadata": {},
   "source": [
    "### 保存label encoder"
   ]
  },
  {
   "cell_type": "code",
   "execution_count": 17,
   "metadata": {},
   "outputs": [],
   "source": [
    "np.save('classes.npy', label_encoder.classes_)"
   ]
  },
  {
   "cell_type": "markdown",
   "metadata": {},
   "source": [
    "### 使用模型做预测"
   ]
  },
  {
   "cell_type": "markdown",
   "metadata": {},
   "source": [
    "- 加载训练好的模型"
   ]
  },
  {
   "cell_type": "code",
   "execution_count": 18,
   "metadata": {},
   "outputs": [
    {
     "name": "stdout",
     "output_type": "stream",
     "text": [
      "_________________________________________________________________\n",
      "Layer (type)                 Output Shape              Param #   \n",
      "=================================================================\n",
      "conv2d_1 (Conv2D)            (None, 30, 30, 32)        896       \n",
      "_________________________________________________________________\n",
      "max_pooling2d_1 (MaxPooling2 (None, 15, 15, 32)        0         \n",
      "_________________________________________________________________\n",
      "conv2d_2 (Conv2D)            (None, 13, 13, 32)        9248      \n",
      "_________________________________________________________________\n",
      "max_pooling2d_2 (MaxPooling2 (None, 6, 6, 32)          0         \n",
      "_________________________________________________________________\n",
      "flatten_1 (Flatten)          (None, 1152)              0         \n",
      "_________________________________________________________________\n",
      "dense_1 (Dense)              (None, 128)               147584    \n",
      "_________________________________________________________________\n",
      "dropout_1 (Dropout)          (None, 128)               0         \n",
      "_________________________________________________________________\n",
      "dense_2 (Dense)              (None, 369)               47601     \n",
      "=================================================================\n",
      "Total params: 205,329\n",
      "Trainable params: 205,329\n",
      "Non-trainable params: 0\n",
      "_________________________________________________________________\n"
     ]
    }
   ],
   "source": [
    "loaded_model = keras.models.load_model(\"mathsymbols.model\")\n",
    "loaded_model.summary()"
   ]
  },
  {
   "cell_type": "markdown",
   "metadata": {},
   "source": [
    "- 加载label encoder"
   ]
  },
  {
   "cell_type": "code",
   "execution_count": 19,
   "metadata": {},
   "outputs": [],
   "source": [
    "label_encoder2 = LabelEncoder()\n",
    "label_encoder2.classes_ = np.load('classes.npy')"
   ]
  },
  {
   "cell_type": "code",
   "execution_count": 20,
   "metadata": {},
   "outputs": [],
   "source": [
    "def predict(img_path):\n",
    "    pred_img = img_to_array(pil_image.open(img_path))\n",
    "    pred_img /= 255.0\n",
    "    \n",
    "    pred = loaded_model.predict(pred_img.reshape(1, 32, 32, 3))\n",
    "    \n",
    "    inverted = label_encoder2.inverse_transform([np.argmax(pred)])\n",
    "    print(\"Prediction: %s, confidence: %.2f\" % (inverted[0], np.max(pred)))"
   ]
  },
  {
   "cell_type": "code",
   "execution_count": 21,
   "metadata": {},
   "outputs": [
    {
     "name": "stdout",
     "output_type": "stream",
     "text": [
      "Prediction: A, confidence: 0.98\n"
     ]
    },
    {
     "name": "stderr",
     "output_type": "stream",
     "text": [
      "D:\\AI\\Anaconda3\\lib\\site-packages\\sklearn\\preprocessing\\label.py:151: DeprecationWarning: The truth value of an empty array is ambiguous. Returning False, but in future this will result in an error. Use `array.size > 0` to check that an array is not empty.\n",
      "  if diff:\n"
     ]
    }
   ],
   "source": [
    "predict(\"HASYv2/hasy-data/v2-00010.png\")"
   ]
  },
  {
   "cell_type": "code",
   "execution_count": 22,
   "metadata": {},
   "outputs": [
    {
     "name": "stdout",
     "output_type": "stream",
     "text": [
      "Prediction: \\pi, confidence: 0.97\n"
     ]
    },
    {
     "name": "stderr",
     "output_type": "stream",
     "text": [
      "D:\\AI\\Anaconda3\\lib\\site-packages\\sklearn\\preprocessing\\label.py:151: DeprecationWarning: The truth value of an empty array is ambiguous. Returning False, but in future this will result in an error. Use `array.size > 0` to check that an array is not empty.\n",
      "  if diff:\n"
     ]
    }
   ],
   "source": [
    "predict(\"HASYv2/hasy-data/v2-00500.png\")"
   ]
  }
 ],
 "metadata": {
  "kernelspec": {
   "display_name": "Python 3",
   "language": "python",
   "name": "python3"
  },
  "language_info": {
   "codemirror_mode": {
    "name": "ipython",
    "version": 3
   },
   "file_extension": ".py",
   "mimetype": "text/x-python",
   "name": "python",
   "nbconvert_exporter": "python",
   "pygments_lexer": "ipython3",
   "version": "3.6.5"
  }
 },
 "nbformat": 4,
 "nbformat_minor": 2
}
